{
 "cells": [
  {
   "cell_type": "code",
   "execution_count": 8,
   "id": "42d98ca0-bd90-4a02-9e71-7f04a37024ae",
   "metadata": {},
   "outputs": [
    {
     "name": "stdout",
     "output_type": "stream",
     "text": [
      "    *\n",
      "   **\n",
      "  ***\n",
      " ****\n",
      "*****\n"
     ]
    }
   ],
   "source": [
    "#Q1 Print patttern\n",
    "\n",
    "a=4\n",
    "for i in range(0,5):\n",
    "    for j in range(0,5):\n",
    "         if i+j>=a:\n",
    "             print(\"*\",end=\"\")\n",
    "         else:\n",
    "             print(\" \",end=\"\")\n",
    "    print(\"\")\n",
    "\n",
    "  "
   ]
  },
  {
   "cell_type": "code",
   "execution_count": 16,
   "id": "c0c109f1-f7c2-47cc-bd39-7a265c9aba03",
   "metadata": {},
   "outputs": [
    {
     "name": "stdin",
     "output_type": "stream",
     "text": [
      "Enter first number : 2.5\n",
      "Enter second number : 2.2\n"
     ]
    },
    {
     "name": "stdout",
     "output_type": "stream",
     "text": [
      "1.1363636363636362\n"
     ]
    }
   ],
   "source": [
    "#Q2 Program that prompts user to input 2 no. and perform division.\n",
    "\n",
    "a=1\n",
    "while(a==1):\n",
    "    num1=input(\"Enter first number :\")\n",
    "    num2=input(\"Enter second number :\")\n",
    "    try:\n",
    "        float(num1)/float(num2)\n",
    "    except ZeroDivisionError:\n",
    "        print(\"Arithmetic Expression\")\n",
    "        a=2\n",
    "    except ValueError:\n",
    "        print(\"NumberFormatExpression\")\n",
    "        a=2\n",
    "    if(a==2):\n",
    "        a=1\n",
    "    else:\n",
    "        print(float(num1)/float(num2))\n",
    "        a=0"
   ]
  },
  {
   "cell_type": "code",
   "execution_count": null,
   "id": "e84eeed5-a79c-468e-a579-278579f79f1e",
   "metadata": {},
   "outputs": [],
   "source": [
    "#Q3 Sports Equipment Rental System POC.\n",
    "\n",
    "  "
   ]
  }
 ],
 "metadata": {
  "kernelspec": {
   "display_name": "Python 3 (ipykernel)",
   "language": "python",
   "name": "python3"
  },
  "language_info": {
   "codemirror_mode": {
    "name": "ipython",
    "version": 3
   },
   "file_extension": ".py",
   "mimetype": "text/x-python",
   "name": "python",
   "nbconvert_exporter": "python",
   "pygments_lexer": "ipython3",
   "version": "3.12.4"
  }
 },
 "nbformat": 4,
 "nbformat_minor": 5
}
