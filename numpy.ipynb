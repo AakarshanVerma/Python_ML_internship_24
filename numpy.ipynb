{
 "cells": [
  {
   "cell_type": "code",
   "execution_count": 1,
   "id": "c82991d1-f47a-4dff-8ce1-abcf6948c408",
   "metadata": {},
   "outputs": [],
   "source": [
    "import numpy as np"
   ]
  },
  {
   "cell_type": "code",
   "execution_count": 2,
   "id": "a1b25c05-3296-47a1-83de-1a9f72fc4434",
   "metadata": {},
   "outputs": [],
   "source": [
    "scores=np.array([[85,90,78],\n",
    "                 [92,88,95],\n",
    "                 [76,95,85],\n",
    "                 [90,85,92],\n",
    "                 [88,76,89]])"
   ]
  },
  {
   "cell_type": "code",
   "execution_count": 9,
   "id": "87b43d83-a8a5-402a-81c9-88f562f97fec",
   "metadata": {},
   "outputs": [
    {
     "name": "stdout",
     "output_type": "stream",
     "text": [
      "Mean score of each subject: [86.2 86.8 87.8]\n"
     ]
    }
   ],
   "source": [
    "# 1. Calculate the mean score of each subject (across all students)\n",
    "subject_means = np.mean(scores, axis=0)\n",
    "print(\"Mean score of each subject:\", subject_means)\n"
   ]
  },
  {
   "cell_type": "code",
   "execution_count": 10,
   "id": "ef87bcf2-185e-4131-9760-e20af26a3466",
   "metadata": {},
   "outputs": [
    {
     "name": "stdout",
     "output_type": "stream",
     "text": [
      "Median score of each student: [85. 92. 85. 90. 88.]\n"
     ]
    }
   ],
   "source": [
    "# 2. Find the median score of each student (across all subjects)\n",
    "\n",
    "student_medians = np.median(scores, axis=1)\n",
    "print(\"Median score of each student:\", student_medians)\n"
   ]
  },
  {
   "cell_type": "code",
   "execution_count": 11,
   "id": "d79773a9-7fa0-4060-9a2b-09baf3fbc803",
   "metadata": {},
   "outputs": [
    {
     "name": "stdout",
     "output_type": "stream",
     "text": [
      "Scores of the student with the highest total score: [92 88 95]\n"
     ]
    }
   ],
   "source": [
    "# 3. Extract the scores of the student with the highest total score\n",
    "\n",
    "highest_total_index = np.argmax(np.sum(scores, axis=1))\n",
    "highest_scores = scores[highest_total_index]\n",
    "print(\"Scores of the student with the highest total score:\", highest_scores)\n"
   ]
  },
  {
   "cell_type": "code",
   "execution_count": 12,
   "id": "bac78700-6aa2-4187-b62d-f76473a759f3",
   "metadata": {},
   "outputs": [
    {
     "name": "stdout",
     "output_type": "stream",
     "text": [
      "Minimum score in each subject: [76 76 78]\n",
      "Maximum score in each subject: [92 95 95]\n"
     ]
    }
   ],
   "source": [
    "# 4. Find the minimum and maximum scores in each subject\n",
    "\n",
    "subject_mins = np.min(scores, axis=0)\n",
    "subject_maxs = np.max(scores, axis=0)\n",
    "print(\"Minimum score in each subject:\", subject_mins)\n",
    "print(\"Maximum score in each subject:\", subject_maxs)\n"
   ]
  },
  {
   "cell_type": "code",
   "execution_count": 13,
   "id": "af285f0b-002c-40b9-9dcf-cb1863468237",
   "metadata": {},
   "outputs": [
    {
     "name": "stdout",
     "output_type": "stream",
     "text": [
      "Reshaped array:\n",
      " [[85 92 76 90 88]\n",
      " [90 88 95 85 76]\n",
      " [78 95 85 92 89]]\n"
     ]
    }
   ],
   "source": [
    "# 5. Reshape the array to have shape (3, 5)\n",
    "\n",
    "scores_reshaped = np.transpose(scores)  # Transpose the array to switch rows and columns\n",
    "print(\"Reshaped array:\\n\", scores_reshaped)\n"
   ]
  },
  {
   "cell_type": "code",
   "execution_count": 14,
   "id": "3688a74b-9336-4b83-9b32-4386cb1b29cd",
   "metadata": {},
   "outputs": [
    {
     "name": "stdout",
     "output_type": "stream",
     "text": [
      "Sorted scores:\n",
      " [[76 85 88 90 92]\n",
      " [76 85 88 90 95]\n",
      " [78 85 89 92 95]]\n"
     ]
    }
   ],
   "source": [
    "# 6. Sort the scores of each subject in ascending order\n",
    "\n",
    "sorted_scores = np.sort(scores_reshaped, axis=1)  # Sort along each row (subject)\n",
    "print(\"Sorted scores:\\n\", sorted_scores)"
   ]
  }
 ],
 "metadata": {
  "kernelspec": {
   "display_name": "Python 3 (ipykernel)",
   "language": "python",
   "name": "python3"
  },
  "language_info": {
   "codemirror_mode": {
    "name": "ipython",
    "version": 3
   },
   "file_extension": ".py",
   "mimetype": "text/x-python",
   "name": "python",
   "nbconvert_exporter": "python",
   "pygments_lexer": "ipython3",
   "version": "3.12.4"
  }
 },
 "nbformat": 4,
 "nbformat_minor": 5
}
